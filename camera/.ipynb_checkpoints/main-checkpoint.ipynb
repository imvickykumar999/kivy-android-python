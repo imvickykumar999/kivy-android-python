{
 "cells": [
  {
   "cell_type": "code",
   "execution_count": 1,
   "metadata": {},
   "outputs": [
    {
     "name": "stderr",
     "output_type": "stream",
     "text": [
      "[INFO   ] [Logger      ] Record log in C:\\Users\\Vicky\\.kivy\\logs\\kivy_21-05-02_64.txt\n",
      "[INFO   ] [Kivy        ] v2.0.0\n",
      "[INFO   ] [Kivy        ] Installed at \"C:\\Users\\Vicky\\anaconda3\\lib\\site-packages\\kivy\\__init__.py\"\n",
      "[INFO   ] [Python      ] v3.8.3 (default, Jul  2 2020, 17:30:36) [MSC v.1916 64 bit (AMD64)]\n",
      "[INFO   ] [Python      ] Interpreter at \"C:\\Users\\Vicky\\anaconda3\\python.exe\"\n",
      "[INFO   ] [Factory     ] 186 symbols loaded\n",
      "[INFO   ] [Image       ] Providers: img_tex, img_dds, img_sdl2, img_pil (img_ffpyplayer ignored)\n",
      "[INFO   ] [Window      ] Provider: sdl2\n",
      "[INFO   ] [GL          ] Using the \"OpenGL\" graphics system\n",
      "[INFO   ] [GL          ] GLEW initialization succeeded\n",
      "[INFO   ] [GL          ] Backend used <glew>\n",
      "[INFO   ] [GL          ] OpenGL version <b'4.6.13596 Compatibility Profile Context 20.10.32 27.20.1032.2'>\n",
      "[INFO   ] [GL          ] OpenGL vendor <b'ATI Technologies Inc.'>\n",
      "[INFO   ] [GL          ] OpenGL renderer <b'AMD Radeon(TM) Vega 8 Graphics'>\n",
      "[INFO   ] [GL          ] OpenGL parsed version: 4, 6\n",
      "[INFO   ] [GL          ] Shading version <b'4.60'>\n",
      "[INFO   ] [GL          ] Texture max size <16384>\n",
      "[INFO   ] [GL          ] Texture max units <32>\n",
      "[INFO   ] [Window      ] auto add sdl2 input provider\n",
      "[INFO   ] [Window      ] virtual keyboard not allowed, single mode, not docked\n",
      "[INFO   ] [Camera      ] Provider: opencv(['camera_picamera', 'camera_gi'] ignored)\n",
      "[INFO   ] [Text        ] Provider: sdl2\n",
      "[INFO   ] [Base        ] Start application main loop\n",
      "[INFO   ] [GL          ] NPOT texture support is available\n",
      "[INFO   ] [GL          ] BGRA texture support is available\n"
     ]
    },
    {
     "name": "stdout",
     "output_type": "stream",
     "text": [
      "Captured\n",
      "Captured\n",
      "Captured\n"
     ]
    },
    {
     "name": "stderr",
     "output_type": "stream",
     "text": [
      "[INFO   ] [Base        ] Leaving application in progress...\n"
     ]
    }
   ],
   "source": [
    "'''\n",
    "Camera Example\n",
    "==============\n",
    "\n",
    "This example demonstrates a simple use of the camera. It shows a window with\n",
    "a buttoned labelled 'play' to turn the camera on and off. Note that\n",
    "not finding a camera, perhaps because gstreamer is not installed, will\n",
    "throw an exception during the kv language processing.\n",
    "\n",
    "'''\n",
    "\n",
    "# Uncomment these lines to see all the messages\n",
    "# from kivy.logger import Logger\n",
    "# import logging\n",
    "# Logger.setLevel(logging.TRACE)\n",
    "\n",
    "from kivy.app import App\n",
    "from kivy.lang import Builder\n",
    "from kivy.uix.boxlayout import BoxLayout\n",
    "import time\n",
    "Builder.load_string('''\n",
    "<CameraClick>:\n",
    "    orientation: 'vertical'\n",
    "    Camera:\n",
    "        id: camera\n",
    "        resolution: (640, 480)\n",
    "        play: False\n",
    "    ToggleButton:\n",
    "        text: 'Play'\n",
    "        on_press: camera.play = not camera.play\n",
    "        size_hint_y: None\n",
    "        height: '48dp'\n",
    "    Button:\n",
    "        text: 'Capture'\n",
    "        size_hint_y: None\n",
    "        height: '48dp'\n",
    "        on_press: root.capture()\n",
    "''')\n",
    "\n",
    "\n",
    "class CameraClick(BoxLayout):\n",
    "    def capture(self):\n",
    "        '''\n",
    "        Function to capture the images and give them the names\n",
    "        according to their captured time and date.\n",
    "        '''\n",
    "        camera = self.ids['camera']\n",
    "        timestr = time.strftime(\"%Y%m%d_%H%M%S\")\n",
    "        camera.export_to_png(\"IMG_{}.png\".format(timestr))\n",
    "        print(\"Captured\")\n",
    "\n",
    "\n",
    "class TestCamera(App):\n",
    "\n",
    "    def build(self):\n",
    "        return CameraClick()\n",
    "\n",
    "\n",
    "TestCamera().run()\n"
   ]
  },
  {
   "cell_type": "code",
   "execution_count": null,
   "metadata": {},
   "outputs": [],
   "source": []
  }
 ],
 "metadata": {
  "kernelspec": {
   "display_name": "Python 3",
   "language": "python",
   "name": "python3"
  },
  "language_info": {
   "codemirror_mode": {
    "name": "ipython",
    "version": 3
   },
   "file_extension": ".py",
   "mimetype": "text/x-python",
   "name": "python",
   "nbconvert_exporter": "python",
   "pygments_lexer": "ipython3",
   "version": "3.8.3"
  }
 },
 "nbformat": 4,
 "nbformat_minor": 4
}
