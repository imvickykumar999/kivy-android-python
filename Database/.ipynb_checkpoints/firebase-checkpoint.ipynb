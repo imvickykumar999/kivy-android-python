{
 "cells": [
  {
   "cell_type": "code",
   "execution_count": 1,
   "metadata": {},
   "outputs": [],
   "source": [
    "# from kivy.app import App\n",
    "\n",
    "# from kivy.uix.label import Label\n",
    "\n",
    "# class FirstKivy(App):\n",
    "\n",
    "#     def build(self):\n",
    "\n",
    "#         return Label(text=\"Hello Kivy!\")\n",
    "\n",
    "# FirstKivy().run()"
   ]
  },
  {
   "cell_type": "code",
   "execution_count": 2,
   "metadata": {},
   "outputs": [],
   "source": [
    "# from kivy.app import App\n",
    "\n",
    "# from kivy.uix.button import Button\n",
    "\n",
    "# class FirstKivy(App):\n",
    "    \n",
    "#     def build(self):\n",
    "        \n",
    "#         return Button(text=\"Welcome to LikeGeeks!\")\n",
    "    \n",
    "# FirstKivy().run()"
   ]
  },
  {
   "cell_type": "code",
   "execution_count": 3,
   "metadata": {},
   "outputs": [
    {
     "name": "stderr",
     "output_type": "stream",
     "text": [
      "[INFO   ] [Logger      ] Record log in C:\\Users\\Vicky\\.kivy\\logs\\kivy_21-05-02_78.txt\n",
      "[INFO   ] [Kivy        ] v2.0.0\n",
      "[INFO   ] [Kivy        ] Installed at \"C:\\Users\\Vicky\\anaconda3\\lib\\site-packages\\kivy\\__init__.py\"\n",
      "[INFO   ] [Python      ] v3.8.3 (default, Jul  2 2020, 17:30:36) [MSC v.1916 64 bit (AMD64)]\n",
      "[INFO   ] [Python      ] Interpreter at \"C:\\Users\\Vicky\\anaconda3\\python.exe\"\n",
      "[INFO   ] [Factory     ] 186 symbols loaded\n",
      "[INFO   ] [Image       ] Providers: img_tex, img_dds, img_sdl2, img_pil (img_ffpyplayer ignored)\n",
      "[INFO   ] [Text        ] Provider: sdl2\n",
      "[INFO   ] [Window      ] Provider: sdl2\n",
      "[INFO   ] [GL          ] Using the \"OpenGL\" graphics system\n",
      "[INFO   ] [GL          ] GLEW initialization succeeded\n",
      "[INFO   ] [GL          ] Backend used <glew>\n",
      "[INFO   ] [GL          ] OpenGL version <b'4.6.13596 Compatibility Profile Context 20.10.32 27.20.1032.2'>\n",
      "[INFO   ] [GL          ] OpenGL vendor <b'ATI Technologies Inc.'>\n",
      "[INFO   ] [GL          ] OpenGL renderer <b'AMD Radeon(TM) Vega 8 Graphics'>\n",
      "[INFO   ] [GL          ] OpenGL parsed version: 4, 6\n",
      "[INFO   ] [GL          ] Shading version <b'4.60'>\n",
      "[INFO   ] [GL          ] Texture max size <16384>\n",
      "[INFO   ] [GL          ] Texture max units <32>\n",
      "[INFO   ] [Window      ] auto add sdl2 input provider\n",
      "[INFO   ] [Window      ] virtual keyboard not allowed, single mode, not docked\n",
      "[INFO   ] [Base        ] Start application main loop\n",
      "[INFO   ] [GL          ] NPOT texture support is available\n",
      "[INFO   ] [Base        ] Leaving application in progress...\n"
     ]
    }
   ],
   "source": [
    "# Kernel -> Restart -> Run Cell\n",
    "\n",
    "import os,sys,inspect\n",
    "currentdir = os.path.dirname(os.path.abspath(inspect.getfile(inspect.currentframe())))\n",
    "parentdir = os.path.dirname(currentdir)\n",
    "sys.path.insert(0,parentdir) \n",
    "\n",
    "from kivy.app import App\n",
    "\n",
    "from kivy.uix.button import Button\n",
    "from kivy.uix.boxlayout import BoxLayout\n",
    "\n",
    "\n",
    "class Fejkbiljett(App):\n",
    "\n",
    "    def build(self):\n",
    "        self.gen_btn = Button(text='Generera',\n",
    "                         size_hint=(.90, .10),\n",
    "                         pos=(5, 5),\n",
    "                         font_size=21)\n",
    "        self.gen_btn.bind(on_press=self.getMessageFejkbiljett)\n",
    "        l = BoxLayout() \n",
    "        l.add_widget(self.gen_btn)\n",
    "        return l\n",
    "\n",
    "    def getMessageFejkbiljett(self, *args):\n",
    "        st = StockholmTicket()\n",
    "        st.getMessage(self)\n",
    "\n",
    "\n",
    "class StockholmTicket():\n",
    "\n",
    "    def getMessage(self, source):\n",
    "        from firebase import firebase\n",
    "        fb_app = firebase.FirebaseApplication('https://led-blink-wifi-default-rtdb.firebaseio.com', None)\n",
    "        fb_app.put('/','led1', 0)\n",
    "        result = fb_app.get('/led1', None)\n",
    "        source.gen_btn.text = str(result)\n",
    "\n",
    "if __name__ == \"__main__\":\n",
    "    Fejkbiljett().run()\n",
    "\n",
    "#     Press ESC (top left on keyboard) to exit screen...."
   ]
  },
  {
   "cell_type": "code",
   "execution_count": null,
   "metadata": {},
   "outputs": [],
   "source": []
  }
 ],
 "metadata": {
  "kernelspec": {
   "display_name": "Python 3",
   "language": "python",
   "name": "python3"
  },
  "language_info": {
   "codemirror_mode": {
    "name": "ipython",
    "version": 3
   },
   "file_extension": ".py",
   "mimetype": "text/x-python",
   "name": "python",
   "nbconvert_exporter": "python",
   "pygments_lexer": "ipython3",
   "version": "3.8.3"
  }
 },
 "nbformat": 4,
 "nbformat_minor": 4
}
