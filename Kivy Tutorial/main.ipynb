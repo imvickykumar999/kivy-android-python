{
 "cells": [
  {
   "cell_type": "markdown",
   "metadata": {},
   "source": [
    "# https://medium.com/edureka/kivy-tutorial-9a0f02fe53f5"
   ]
  },
  {
   "cell_type": "markdown",
   "metadata": {},
   "source": [
    "### Python programming language stands at the top of the list when it comes to programming languages. One of the many reasons is the excellent library support to build world-class applications.\n",
    "\n",
    "## One such library is Kivy in python which is a cross-platform library and is used to build multi-touch applications."
   ]
  },
  {
   "cell_type": "markdown",
   "metadata": {},
   "source": [
    "# What Is Kivy?\n",
    "## Kivy is a cross-platform, free and open-source python library for creating multi-touch applications with a natural user interface. Kivy runs on supported platforms like windows, OS X, Linux, Raspberry Pi, Android, etc."
   ]
  },
  {
   "cell_type": "markdown",
   "metadata": {},
   "source": [
    "## It comes under the MIT license is 100 percent free to use. The kivy framework is stable and has a well-documented API."
   ]
  },
  {
   "cell_type": "code",
   "execution_count": 1,
   "metadata": {},
   "outputs": [],
   "source": [
    "# from kivy.app import App\n",
    "# from kivy.uix.scatter import Scatter\n",
    "# from kivy.uix.label import Label\n",
    "# from kivy.uix.floatlayout import FloatLayout\n",
    " \n",
    " \n",
    "# class SimpleApp(App):\n",
    "#     def build(self):\n",
    "#         f = FloatLayout()\n",
    "#         s = Scatter()\n",
    "#         l = Label(text=\"Edureka!\", font_size=150)\n",
    " \n",
    "#         f.add_widget(s)\n",
    "#         s.add_widget(l)\n",
    "#         return f\n",
    " \n",
    " \n",
    "# if __name__ == \"__main__\":\n",
    "#     SimpleApp().run()"
   ]
  },
  {
   "cell_type": "markdown",
   "metadata": {},
   "source": [
    "# Label\n",
    "## The label widget is used for rendering text. It supports both ascii and unicode strings."
   ]
  },
  {
   "cell_type": "code",
   "execution_count": 2,
   "metadata": {},
   "outputs": [],
   "source": [
    "# from kivy.app import App\n",
    "# from kivy.uix.label import Label\n",
    " \n",
    " \n",
    "# class SimpleApp(App):\n",
    "#     def build(self):\n",
    "#         l = Label(text=\"Edureka!\",font_size=150)\n",
    "#         return l\n",
    " \n",
    " \n",
    "# if __name__ == \"__main__\":\n",
    "#     SimpleApp().run()"
   ]
  },
  {
   "cell_type": "markdown",
   "metadata": {},
   "source": [
    "# Button\n",
    "### The button is a label with actions that get triggered when a button is pressed. To configure a button, the same settings are used as that of a label. Here is a simple example to show the button widget. It changes state when clicked, and we can even add properties or bind some actions to the button as well."
   ]
  },
  {
   "cell_type": "code",
   "execution_count": 3,
   "metadata": {
    "scrolled": true
   },
   "outputs": [],
   "source": [
    "# from kivy.app import App\n",
    "# from kivy.uix.button import Button\n",
    " \n",
    " \n",
    "# class SimpleApp(App):\n",
    "#     def build(self):\n",
    "#         def a(instance,value):\n",
    "#             print(\"welcome to edureka\")\n",
    "#         btn = Button(text=\"Edureka!\",font_size=150)\n",
    "#         btn.bind(state=a)\n",
    "#         return btn\n",
    " \n",
    " \n",
    "# if __name__ == \"__main__\":\n",
    "#     SimpleApp().run()"
   ]
  },
  {
   "cell_type": "code",
   "execution_count": 4,
   "metadata": {
    "scrolled": true
   },
   "outputs": [],
   "source": [
    "# from kivy.app import App\n",
    "# from kivy.uix.button import Button\n",
    " \n",
    "# # import os,sys,inspect\n",
    "# # currentdir = os.path.dirname(os.path.abspath(inspect.getfile(inspect.currentframe())))\n",
    "# # parentdir = os.path.dirname(currentdir)\n",
    "# # sys.path.insert(0,parentdir) \n",
    "\n",
    "# # from firebase import firebase\n",
    "# from vicksbase import firebase\n",
    "# fb_app = firebase.FirebaseApplication('https://led-blink-wifi-default-rtdb.firebaseio.com', None)\n",
    "\n",
    "# class SimpleApp(App):\n",
    "#     def build(self):\n",
    "#         def a(instance,value):\n",
    "            \n",
    "# #             x = fb_app.get('/led1', None)\n",
    "# #             x = not x\n",
    "#             x = 1\n",
    "#             fb_app.put('/','led1', int(x)) \n",
    "# #             print(x)\n",
    "            \n",
    "#         btn = Button(text=\"Edureka!\",font_size=150)\n",
    "#         btn.bind(state=a) \n",
    "#         return btn\n",
    " \n",
    " \n",
    "# if __name__ == \"__main__\":\n",
    "#     SimpleApp().run()"
   ]
  },
  {
   "cell_type": "markdown",
   "metadata": {},
   "source": [
    "# My Arth teacher name is Vimal Daga Sir. He is a very good teacher. I have been studying there since 2019 and he teach us very well and his teaching style is so good and understandable. I never ever see this type of tutor, he is very caring and loving to all student in the class. Earlier I was so demotivated about my job, but after studying there I know many technologies and have so much confidence that I can crack interviews easily. Thankyou for guide and support.  \n",
    "\n",
    "### -for sagar."
   ]
  },
  {
   "cell_type": "code",
   "execution_count": 5,
   "metadata": {},
   "outputs": [],
   "source": [
    "# x = 0\n",
    "# x = not x\n",
    "# x"
   ]
  },
  {
   "cell_type": "code",
   "execution_count": 6,
   "metadata": {},
   "outputs": [],
   "source": [
    "# import os,sys,inspect\n",
    "# currentdir = os.path.dirname(os.path.abspath(inspect.getfile(inspect.currentframe())))\n",
    "# parentdir = os.path.dirname(currentdir)\n",
    "# sys.path.insert(0,parentdir) \n",
    "\n",
    "# from firebase import firebase\n",
    "# fb_app = firebase.FirebaseApplication('https://led-blink-wifi-default-rtdb.firebaseio.com', None)"
   ]
  },
  {
   "cell_type": "code",
   "execution_count": 7,
   "metadata": {},
   "outputs": [],
   "source": [
    "# x = fb_app.get('/led1', None)\n",
    "# x = not x\n",
    "# fb_app.put('/','led1', int(x)) \n",
    "# x"
   ]
  },
  {
   "cell_type": "code",
   "execution_count": 8,
   "metadata": {},
   "outputs": [
    {
     "name": "stderr",
     "output_type": "stream",
     "text": [
      "[INFO   ] [Logger      ] Record log in C:\\Users\\Vicky\\.kivy\\logs\\kivy_21-05-02_81.txt\n",
      "[INFO   ] [Kivy        ] v2.0.0\n",
      "[INFO   ] [Kivy        ] Installed at \"C:\\Users\\Vicky\\anaconda3\\lib\\site-packages\\kivy\\__init__.py\"\n",
      "[INFO   ] [Python      ] v3.8.3 (default, Jul  2 2020, 17:30:36) [MSC v.1916 64 bit (AMD64)]\n",
      "[INFO   ] [Python      ] Interpreter at \"C:\\Users\\Vicky\\anaconda3\\python.exe\"\n",
      "[INFO   ] [Factory     ] 186 symbols loaded\n",
      "[INFO   ] [Image       ] Providers: img_tex, img_dds, img_sdl2, img_pil (img_ffpyplayer ignored)\n",
      "[INFO   ] [Window      ] Provider: sdl2\n",
      "[INFO   ] [GL          ] Using the \"OpenGL\" graphics system\n",
      "[INFO   ] [GL          ] GLEW initialization succeeded\n",
      "[INFO   ] [GL          ] Backend used <glew>\n",
      "[INFO   ] [GL          ] OpenGL version <b'4.6.13596 Compatibility Profile Context 20.10.32 27.20.1032.2'>\n",
      "[INFO   ] [GL          ] OpenGL vendor <b'ATI Technologies Inc.'>\n",
      "[INFO   ] [GL          ] OpenGL renderer <b'AMD Radeon(TM) Vega 8 Graphics'>\n",
      "[INFO   ] [GL          ] OpenGL parsed version: 4, 6\n",
      "[INFO   ] [GL          ] Shading version <b'4.60'>\n",
      "[INFO   ] [GL          ] Texture max size <16384>\n",
      "[INFO   ] [GL          ] Texture max units <32>\n",
      "[INFO   ] [Window      ] auto add sdl2 input provider\n",
      "[INFO   ] [Window      ] virtual keyboard not allowed, single mode, not docked\n",
      "[INFO   ] [Base        ] Start application main loop\n",
      "[INFO   ] [Base        ] Leaving application in progress...\n"
     ]
    }
   ],
   "source": [
    "from kivy.app import App\n",
    "from kivy.uix.switch import Switch\n",
    " \n",
    " \n",
    "class SimpleApp(App):\n",
    "    def build(self):\n",
    " \n",
    "        s = Switch(active=True)\n",
    "        return s\n",
    " \n",
    " \n",
    "if __name__ == \"__main__\":\n",
    "    SimpleApp().run()"
   ]
  }
 ],
 "metadata": {
  "kernelspec": {
   "display_name": "Python 3",
   "language": "python",
   "name": "python3"
  },
  "language_info": {
   "codemirror_mode": {
    "name": "ipython",
    "version": 3
   },
   "file_extension": ".py",
   "mimetype": "text/x-python",
   "name": "python",
   "nbconvert_exporter": "python",
   "pygments_lexer": "ipython3",
   "version": "3.8.3"
  }
 },
 "nbformat": 4,
 "nbformat_minor": 4
}
