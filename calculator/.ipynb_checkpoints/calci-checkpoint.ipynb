{
 "cells": [
  {
   "cell_type": "code",
   "execution_count": 1,
   "metadata": {},
   "outputs": [
    {
     "name": "stderr",
     "output_type": "stream",
     "text": [
      "[INFO   ] [Logger      ] Record log in C:\\Users\\Vicky\\.kivy\\logs\\kivy_21-05-02_43.txt\n",
      "[INFO   ] [Kivy        ] v2.0.0\n",
      "[INFO   ] [Kivy        ] Installed at \"C:\\Users\\Vicky\\anaconda3\\lib\\site-packages\\kivy\\__init__.py\"\n",
      "[INFO   ] [Python      ] v3.8.3 (default, Jul  2 2020, 17:30:36) [MSC v.1916 64 bit (AMD64)]\n",
      "[INFO   ] [Python      ] Interpreter at \"C:\\Users\\Vicky\\anaconda3\\python.exe\"\n",
      "[INFO   ] [Factory     ] 186 symbols loaded\n",
      "[INFO   ] [Image       ] Providers: img_tex, img_dds, img_sdl2, img_pil (img_ffpyplayer ignored)\n",
      "[INFO   ] [Window      ] Provider: sdl2\n",
      "[INFO   ] [GL          ] Using the \"OpenGL\" graphics system\n",
      "[INFO   ] [GL          ] GLEW initialization succeeded\n",
      "[INFO   ] [GL          ] Backend used <glew>\n",
      "[INFO   ] [GL          ] OpenGL version <b'4.6.13596 Compatibility Profile Context 20.10.32 27.20.1032.2'>\n",
      "[INFO   ] [GL          ] OpenGL vendor <b'ATI Technologies Inc.'>\n",
      "[INFO   ] [GL          ] OpenGL renderer <b'AMD Radeon(TM) Vega 8 Graphics'>\n",
      "[INFO   ] [GL          ] OpenGL parsed version: 4, 6\n",
      "[INFO   ] [GL          ] Shading version <b'4.60'>\n",
      "[INFO   ] [GL          ] Texture max size <16384>\n",
      "[INFO   ] [GL          ] Texture max units <32>\n",
      "[INFO   ] [Window      ] auto add sdl2 input provider\n",
      "[INFO   ] [Window      ] virtual keyboard not allowed, single mode, not docked\n",
      "[INFO   ] [Text        ] Provider: sdl2\n",
      "[INFO   ] [Base        ] Start application main loop\n",
      "[INFO   ] [GL          ] NPOT texture support is available\n",
      "[INFO   ] [Base        ] Leaving application in progress...\n"
     ]
    }
   ],
   "source": [
    "# Program to create a calculator\n",
    "\n",
    "# Program to Show how to create a switch\n",
    "# import kivy module\n",
    "import kivy\n",
    "\n",
    "# base Class of your App inherits from the App class.\n",
    "# app:always refers to the instance of your application\n",
    "from kivy.app import App\n",
    "# from kivy.lang import Builder\n",
    "\n",
    "# this restrict the kivy version i.e\n",
    "# below this kivy version you cannot\n",
    "# use the app or software\n",
    "kivy.require('1.9.0')\n",
    "\n",
    "# for making multiple bttons to arranging\n",
    "# them we are using this\n",
    "from kivy.uix.gridlayout import GridLayout\n",
    "\n",
    "# for the size of window\n",
    "from kivy.config import Config\n",
    "\n",
    "# Setting size to resizable\n",
    "Config.set('graphics', 'resizable', 1)\n",
    "## Config.set('graphics', 'width', '400')\n",
    "## Config.set('graphics', 'height', '400')\n",
    "\n",
    "\n",
    "# Creating Layout class\n",
    "class CalcGridLayout(GridLayout):\n",
    "\n",
    "    # Function called when equals is pressed\n",
    "    def calculate(self, calculation):\n",
    "        if calculation:\n",
    "            try:\n",
    "                # Solve formula and display it in entry\n",
    "                # which is pointed at by display\n",
    "                self.display.text = str(eval(calculation))\n",
    "            except Exception:\n",
    "                self.display.text = \"Error\"\n",
    "\n",
    "# Creating App class\n",
    "class CalculatorApp(App):\n",
    "\n",
    "    def build(self):\n",
    "        return CalcGridLayout()\n",
    "\n",
    "# creating object and running it\n",
    "calcApp = CalculatorApp()\n",
    "calcApp.run()"
   ]
  },
  {
   "cell_type": "code",
   "execution_count": null,
   "metadata": {},
   "outputs": [],
   "source": []
  }
 ],
 "metadata": {
  "kernelspec": {
   "display_name": "Python 3",
   "language": "python",
   "name": "python3"
  },
  "language_info": {
   "codemirror_mode": {
    "name": "ipython",
    "version": 3
   },
   "file_extension": ".py",
   "mimetype": "text/x-python",
   "name": "python",
   "nbconvert_exporter": "python",
   "pygments_lexer": "ipython3",
   "version": "3.8.3"
  }
 },
 "nbformat": 4,
 "nbformat_minor": 4
}
